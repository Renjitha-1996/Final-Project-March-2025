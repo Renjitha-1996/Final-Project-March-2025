{
 "cells": [
  {
   "cell_type": "markdown",
   "id": "2a530d14-30fd-4761-9561-6da68428a08b",
   "metadata": {},
   "source": [
    "# Title of ML project : Telangana Regional Transport Authority Vehicle Online Sales Data 01-01-2025 to 31-01-2025\n",
    "\n",
    "# Name : Renjitha E R"
   ]
  },
  {
   "cell_type": "markdown",
   "id": "c20f8aeb-f351-4e0b-ae78-8e30da53663f",
   "metadata": {},
   "source": [
    "# Organization : Entri Elevate"
   ]
  },
  {
   "cell_type": "markdown",
   "id": "327c2f3a-328a-49a4-a343-b6ff4b6a06c6",
   "metadata": {},
   "source": [
    "https://etimg.etb2bimg.com/photo/86419624.cms"
   ]
  },
  {
   "cell_type": "markdown",
   "id": "d762ce2f-fa2e-4efb-9eb0-3f1fcc3783a9",
   "metadata": {},
   "source": [
    "# Overview of Problem Statement\n",
    "\n",
    "In 2025, a significant number of vehicles will require insurance renewal. The goal of this project is to predict the number of vehicles that need insurance renewal in 2025 using machine learning techniques. This prediction is crucial for insurance companies, government agencies, and vehicle owners to plan ahead, allocate resources efficiently, and ensure seamless insurance renewal processes."
   ]
  },
  {
   "cell_type": "markdown",
   "id": "4158fc43-0cd0-414e-b45e-3f92b3f0f7eb",
   "metadata": {},
   "source": [
    "# Objective\n",
    "\n",
    "Predicting the number of vehicles that need insurance renewal in 2025"
   ]
  },
  {
   "cell_type": "markdown",
   "id": "a5beaf3a-fe3e-4b65-9bb2-e9e95c20e894",
   "metadata": {},
   "source": [
    "# Data Description\n",
    "\n",
    "Source Of Data: The dataset collected from Telengana Government Site\n",
    "\n",
    "# Feature\n",
    "\n",
    "slno                   :\tSerial number of the record.\n",
    "modelDesc              :\tDescription of the vehicle model.\n",
    "fuel                   :\tType of fuel used (e.g., Petrol, Diesel, Electric).\n",
    "colour                 :\tVehicle color.\n",
    "vehicleClass           :\tCategory of the vehicle (e.g., Motor Cycle, Goods Carriage).\n",
    "makeYear               :\tThe manufacturing year of the vehicle.\n",
    "seatCapacity           :\tNumber of seats in the vehicle.\n",
    "insuranceValidity      :\tThe expiry date of the vehicle's insurance.\n",
    "secondVehicle          :\tIndicates whether this is the owner's second vehicle (Y or N).\n",
    "tempRegistrationNumber :\tTemporary registration number of the vehicle.\n",
    "category               :\tSpecifies if the vehicle is Transport or Non-Transport.\n",
    "makerName              : \tName of the vehicle manufacturer (e.g., Honda, Bajaj, Ashok Leyland).\n",
    "OfficeCd               :\tCode of the registering office (RTO).\n",
    "fromdate               :\tRegistration start date.\n",
    "to date                :\tRegistration end date."
   ]
  },
  {
   "cell_type": "markdown",
   "id": "ce2f9ed7-89f1-43a0-b86c-529df706156a",
   "metadata": {},
   "source": [
    "# Data Collection"
   ]
  },
  {
   "cell_type": "code",
   "execution_count": 152,
   "id": "46f9b9ac-60d1-4569-89a9-aba0a1f26ac2",
   "metadata": {},
   "outputs": [],
   "source": [
    "import numpy as np\n",
    "import pandas as pd\n",
    "import matplotlib.pyplot as plt\n",
    "import seaborn as sns\n",
    "import warnings\n",
    "warnings.filterwarnings('ignore')\n",
    "from scipy.stats import skew\n",
    "from sklearn.preprocessing import PowerTransformer\n",
    "from sklearn.feature_selection import SelectKBest, f_regression\n",
    "from sklearn.model_selection import train_test_split\n",
    "from sklearn.preprocessing import StandardScaler, OneHotEncoder\n",
    "from sklearn.linear_model import LinearRegression,Lasso\n",
    "from sklearn.ensemble import RandomForestRegressor,GradientBoostingRegressor, AdaBoostRegressor\n",
    "from sklearn.metrics import mean_squared_error, mean_absolute_error,r2_score\n",
    "from sklearn.model_selection import GridSearchCV, cross_val_score\n",
    "from sklearn.pipeline import Pipeline\n",
    "from sklearn.impute import SimpleImputer\n",
    "import joblib"
   ]
  },
  {
   "cell_type": "code",
   "execution_count": 2,
   "id": "ed68c665-7a9f-455a-8d2f-a4ccfded39b6",
   "metadata": {},
   "outputs": [],
   "source": [
    "# Load the dataset\n",
    "df =pd.read_csv('ts_transport_online_sales_01_01_2025to31_01_2025.csv')"
   ]
  },
  {
   "cell_type": "code",
   "execution_count": 3,
   "id": "7335bf48-d636-4563-a468-7941e8bde5c0",
   "metadata": {},
   "outputs": [
    {
     "data": {
      "text/html": [
       "<div>\n",
       "<style scoped>\n",
       "    .dataframe tbody tr th:only-of-type {\n",
       "        vertical-align: middle;\n",
       "    }\n",
       "\n",
       "    .dataframe tbody tr th {\n",
       "        vertical-align: top;\n",
       "    }\n",
       "\n",
       "    .dataframe thead th {\n",
       "        text-align: right;\n",
       "    }\n",
       "</style>\n",
       "<table border=\"1\" class=\"dataframe\">\n",
       "  <thead>\n",
       "    <tr style=\"text-align: right;\">\n",
       "      <th></th>\n",
       "      <th>slno</th>\n",
       "      <th>modelDesc</th>\n",
       "      <th>fuel</th>\n",
       "      <th>colour</th>\n",
       "      <th>vehicleClass</th>\n",
       "      <th>makeYear</th>\n",
       "      <th>seatCapacity</th>\n",
       "      <th>insuranceValidity</th>\n",
       "      <th>secondVehicle</th>\n",
       "      <th>tempRegistrationNumber</th>\n",
       "      <th>category</th>\n",
       "      <th>makerName</th>\n",
       "      <th>OfficeCd</th>\n",
       "      <th>fromdate</th>\n",
       "      <th>todate</th>\n",
       "    </tr>\n",
       "  </thead>\n",
       "  <tbody>\n",
       "    <tr>\n",
       "      <th>0</th>\n",
       "      <td>1</td>\n",
       "      <td>TVS JUPITER 113 BSVI-PH2</td>\n",
       "      <td>PETROL</td>\n",
       "      <td>GL COPPER</td>\n",
       "      <td>MOTOR CYCLE</td>\n",
       "      <td>01/12/2024</td>\n",
       "      <td>2</td>\n",
       "      <td>31/12/2029</td>\n",
       "      <td>N</td>\n",
       "      <td>TG09QTR2266</td>\n",
       "      <td>Non Transport</td>\n",
       "      <td>TVS MOTOR COMPANY LTD</td>\n",
       "      <td>RTA-HYDERABAD-WZ</td>\n",
       "      <td>01/01/2025</td>\n",
       "      <td>01/01/2025</td>\n",
       "    </tr>\n",
       "    <tr>\n",
       "      <th>1</th>\n",
       "      <td>2</td>\n",
       "      <td>KTM - 250 DUKE BSVI-PH2</td>\n",
       "      <td>PETROL</td>\n",
       "      <td>EBONY BLACK(MET)</td>\n",
       "      <td>MOTOR CYCLE</td>\n",
       "      <td>01/12/2024</td>\n",
       "      <td>2</td>\n",
       "      <td>31/12/2029</td>\n",
       "      <td>N</td>\n",
       "      <td>TG07LTR7586</td>\n",
       "      <td>Non Transport</td>\n",
       "      <td>BAJAJ AUTO LTD</td>\n",
       "      <td>RTA RANGAREDDY</td>\n",
       "      <td>01/01/2025</td>\n",
       "      <td>01/01/2025</td>\n",
       "    </tr>\n",
       "    <tr>\n",
       "      <th>2</th>\n",
       "      <td>3</td>\n",
       "      <td>SHINE 125 DRUM BSVI-PH2</td>\n",
       "      <td>PETROL</td>\n",
       "      <td>REBEL RED METALLIC 2</td>\n",
       "      <td>MOTOR CYCLE</td>\n",
       "      <td>01/11/2024</td>\n",
       "      <td>2</td>\n",
       "      <td>31/12/2029</td>\n",
       "      <td>N</td>\n",
       "      <td>TG08KTR6798</td>\n",
       "      <td>Non Transport</td>\n",
       "      <td>HONDA MOTORCYCLE&amp;SCOOTER(I)P L</td>\n",
       "      <td>RTA-HYDERABAD-NZ</td>\n",
       "      <td>01/01/2025</td>\n",
       "      <td>01/01/2025</td>\n",
       "    </tr>\n",
       "    <tr>\n",
       "      <th>3</th>\n",
       "      <td>4</td>\n",
       "      <td>UE2825/39 T TIP BGS 16 CU M  295/90R20 BSVI-PH2</td>\n",
       "      <td>DIESEL</td>\n",
       "      <td>YELLOW CABIN AND GRAY LOAD BODY</td>\n",
       "      <td>Goods Carriage</td>\n",
       "      <td>01/11/2024</td>\n",
       "      <td>2</td>\n",
       "      <td>31/12/2025</td>\n",
       "      <td>N</td>\n",
       "      <td>TG10GTR2075</td>\n",
       "      <td>Transport</td>\n",
       "      <td>ASHOK LEYLAND LTD</td>\n",
       "      <td>RTA MEDCHAL</td>\n",
       "      <td>01/01/2025</td>\n",
       "      <td>01/01/2025</td>\n",
       "    </tr>\n",
       "    <tr>\n",
       "      <th>4</th>\n",
       "      <td>5</td>\n",
       "      <td>SHINE 125 DISK BSVI-PH2</td>\n",
       "      <td>PETROL</td>\n",
       "      <td>BLACK</td>\n",
       "      <td>MOTOR CYCLE</td>\n",
       "      <td>01/12/2024</td>\n",
       "      <td>2</td>\n",
       "      <td>30/12/2029</td>\n",
       "      <td>N</td>\n",
       "      <td>TG08KTR6920</td>\n",
       "      <td>Non Transport</td>\n",
       "      <td>HONDA MOTORCYCLE&amp;SCOOTER(I)P L</td>\n",
       "      <td>UNIT OFFICE PATANCHERUVU</td>\n",
       "      <td>01/01/2025</td>\n",
       "      <td>01/01/2025</td>\n",
       "    </tr>\n",
       "  </tbody>\n",
       "</table>\n",
       "</div>"
      ],
      "text/plain": [
       "   slno                                        modelDesc    fuel  \\\n",
       "0     1                         TVS JUPITER 113 BSVI-PH2  PETROL   \n",
       "1     2                          KTM - 250 DUKE BSVI-PH2  PETROL   \n",
       "2     3                          SHINE 125 DRUM BSVI-PH2  PETROL   \n",
       "3     4  UE2825/39 T TIP BGS 16 CU M  295/90R20 BSVI-PH2  DIESEL   \n",
       "4     5                          SHINE 125 DISK BSVI-PH2  PETROL   \n",
       "\n",
       "                            colour    vehicleClass    makeYear  seatCapacity  \\\n",
       "0                        GL COPPER     MOTOR CYCLE  01/12/2024             2   \n",
       "1                 EBONY BLACK(MET)     MOTOR CYCLE  01/12/2024             2   \n",
       "2             REBEL RED METALLIC 2     MOTOR CYCLE  01/11/2024             2   \n",
       "3  YELLOW CABIN AND GRAY LOAD BODY  Goods Carriage  01/11/2024             2   \n",
       "4                            BLACK     MOTOR CYCLE  01/12/2024             2   \n",
       "\n",
       "  insuranceValidity secondVehicle tempRegistrationNumber       category  \\\n",
       "0        31/12/2029             N            TG09QTR2266  Non Transport   \n",
       "1        31/12/2029             N            TG07LTR7586  Non Transport   \n",
       "2        31/12/2029             N            TG08KTR6798  Non Transport   \n",
       "3        31/12/2025             N            TG10GTR2075      Transport   \n",
       "4        30/12/2029             N            TG08KTR6920  Non Transport   \n",
       "\n",
       "                        makerName                  OfficeCd    fromdate  \\\n",
       "0           TVS MOTOR COMPANY LTD          RTA-HYDERABAD-WZ  01/01/2025   \n",
       "1                  BAJAJ AUTO LTD            RTA RANGAREDDY  01/01/2025   \n",
       "2  HONDA MOTORCYCLE&SCOOTER(I)P L          RTA-HYDERABAD-NZ  01/01/2025   \n",
       "3               ASHOK LEYLAND LTD               RTA MEDCHAL  01/01/2025   \n",
       "4  HONDA MOTORCYCLE&SCOOTER(I)P L  UNIT OFFICE PATANCHERUVU  01/01/2025   \n",
       "\n",
       "       todate  \n",
       "0  01/01/2025  \n",
       "1  01/01/2025  \n",
       "2  01/01/2025  \n",
       "3  01/01/2025  \n",
       "4  01/01/2025  "
      ]
     },
     "execution_count": 3,
     "metadata": {},
     "output_type": "execute_result"
    }
   ],
   "source": [
    "df.head(5)"
   ]
  },
  {
   "cell_type": "code",
   "execution_count": 7,
   "id": "4bdc7c0b-4305-4582-bdb5-f1f1ecc61eaa",
   "metadata": {},
   "outputs": [
    {
     "data": {
      "text/html": [
       "<div>\n",
       "<style scoped>\n",
       "    .dataframe tbody tr th:only-of-type {\n",
       "        vertical-align: middle;\n",
       "    }\n",
       "\n",
       "    .dataframe tbody tr th {\n",
       "        vertical-align: top;\n",
       "    }\n",
       "\n",
       "    .dataframe thead th {\n",
       "        text-align: right;\n",
       "    }\n",
       "</style>\n",
       "<table border=\"1\" class=\"dataframe\">\n",
       "  <thead>\n",
       "    <tr style=\"text-align: right;\">\n",
       "      <th></th>\n",
       "      <th>slno</th>\n",
       "      <th>modelDesc</th>\n",
       "      <th>fuel</th>\n",
       "      <th>colour</th>\n",
       "      <th>vehicleClass</th>\n",
       "      <th>makeYear</th>\n",
       "      <th>seatCapacity</th>\n",
       "      <th>insuranceValidity</th>\n",
       "      <th>secondVehicle</th>\n",
       "      <th>tempRegistrationNumber</th>\n",
       "      <th>category</th>\n",
       "      <th>makerName</th>\n",
       "      <th>OfficeCd</th>\n",
       "      <th>fromdate</th>\n",
       "      <th>todate</th>\n",
       "    </tr>\n",
       "  </thead>\n",
       "  <tbody>\n",
       "    <tr>\n",
       "      <th>70428</th>\n",
       "      <td>70429</td>\n",
       "      <td>AMAZE 3RD GEN ZX MT(I-VTEC) BSVI-PH2</td>\n",
       "      <td>PETROL</td>\n",
       "      <td>PLATINUM WHITE</td>\n",
       "      <td>MOTOR CAR</td>\n",
       "      <td>01/01/2025</td>\n",
       "      <td>5</td>\n",
       "      <td>30/01/2028</td>\n",
       "      <td>N</td>\n",
       "      <td>TG08LTR4594</td>\n",
       "      <td>Non Transport</td>\n",
       "      <td>HONDA CARS INDIA LTD</td>\n",
       "      <td>RTA MEDCHAL</td>\n",
       "      <td>31/01/2025</td>\n",
       "      <td>31/01/2025</td>\n",
       "    </tr>\n",
       "    <tr>\n",
       "      <th>70429</th>\n",
       "      <td>70430</td>\n",
       "      <td>INNOVA HYCROSS HYBRID ZX(7S) BSVI-PH2</td>\n",
       "      <td>PETROL</td>\n",
       "      <td>SUPER WHITE</td>\n",
       "      <td>MOTOR CAR</td>\n",
       "      <td>01/01/2025</td>\n",
       "      <td>7</td>\n",
       "      <td>30/01/2028</td>\n",
       "      <td>N</td>\n",
       "      <td>TG07MTR6426</td>\n",
       "      <td>Non Transport</td>\n",
       "      <td>TOYOTA KIRLOSKAR MOTOR PVT LTD</td>\n",
       "      <td>RTA UPPAL</td>\n",
       "      <td>31/01/2025</td>\n",
       "      <td>31/01/2025</td>\n",
       "    </tr>\n",
       "    <tr>\n",
       "      <th>70430</th>\n",
       "      <td>70431</td>\n",
       "      <td>ACTIVA 125 SMART. BSVI-PH2</td>\n",
       "      <td>PETROL</td>\n",
       "      <td>P BLACK</td>\n",
       "      <td>MOTOR CYCLE</td>\n",
       "      <td>01/01/2025</td>\n",
       "      <td>2</td>\n",
       "      <td>30/01/2030</td>\n",
       "      <td>Y</td>\n",
       "      <td>TG09RTR4579</td>\n",
       "      <td>Non Transport</td>\n",
       "      <td>HONDA MOTORCYCLE&amp;SCOOTER(I)P L</td>\n",
       "      <td>RTA-HYDERABAD-EZ</td>\n",
       "      <td>31/01/2025</td>\n",
       "      <td>31/01/2025</td>\n",
       "    </tr>\n",
       "    <tr>\n",
       "      <th>70431</th>\n",
       "      <td>70432</td>\n",
       "      <td>PASSION + I 3S DRS BSVI-PH2</td>\n",
       "      <td>PETROL</td>\n",
       "      <td>BLACK GREY STRIPES</td>\n",
       "      <td>MOTOR CYCLE</td>\n",
       "      <td>01/07/2024</td>\n",
       "      <td>2</td>\n",
       "      <td>30/01/2030</td>\n",
       "      <td>N</td>\n",
       "      <td>TG09RTR4549</td>\n",
       "      <td>Non Transport</td>\n",
       "      <td>HERO MOTOCORP LTD</td>\n",
       "      <td>RTA RANGAREDDY</td>\n",
       "      <td>31/01/2025</td>\n",
       "      <td>31/01/2025</td>\n",
       "    </tr>\n",
       "    <tr>\n",
       "      <th>70432</th>\n",
       "      <td>70433</td>\n",
       "      <td>MARUTI XL6 SMART HYBRID ALPHA 1.5L5MT BSVI-PH2</td>\n",
       "      <td>PETROL</td>\n",
       "      <td>SPLENDID SILVER</td>\n",
       "      <td>MOTOR CAR</td>\n",
       "      <td>01/02/2024</td>\n",
       "      <td>6</td>\n",
       "      <td>30/01/2028</td>\n",
       "      <td>N</td>\n",
       "      <td>TG09RTR4413</td>\n",
       "      <td>Non Transport</td>\n",
       "      <td>MARUTI SUZUKI INDIA LTD.,</td>\n",
       "      <td>RTA MEDCHAL</td>\n",
       "      <td>31/01/2025</td>\n",
       "      <td>31/01/2025</td>\n",
       "    </tr>\n",
       "  </tbody>\n",
       "</table>\n",
       "</div>"
      ],
      "text/plain": [
       "        slno                                       modelDesc    fuel  \\\n",
       "70428  70429            AMAZE 3RD GEN ZX MT(I-VTEC) BSVI-PH2  PETROL   \n",
       "70429  70430           INNOVA HYCROSS HYBRID ZX(7S) BSVI-PH2  PETROL   \n",
       "70430  70431                      ACTIVA 125 SMART. BSVI-PH2  PETROL   \n",
       "70431  70432                     PASSION + I 3S DRS BSVI-PH2  PETROL   \n",
       "70432  70433  MARUTI XL6 SMART HYBRID ALPHA 1.5L5MT BSVI-PH2  PETROL   \n",
       "\n",
       "                   colour vehicleClass    makeYear  seatCapacity  \\\n",
       "70428      PLATINUM WHITE    MOTOR CAR  01/01/2025             5   \n",
       "70429         SUPER WHITE    MOTOR CAR  01/01/2025             7   \n",
       "70430             P BLACK  MOTOR CYCLE  01/01/2025             2   \n",
       "70431  BLACK GREY STRIPES  MOTOR CYCLE  01/07/2024             2   \n",
       "70432     SPLENDID SILVER    MOTOR CAR  01/02/2024             6   \n",
       "\n",
       "      insuranceValidity secondVehicle tempRegistrationNumber       category  \\\n",
       "70428        30/01/2028             N            TG08LTR4594  Non Transport   \n",
       "70429        30/01/2028             N            TG07MTR6426  Non Transport   \n",
       "70430        30/01/2030             Y            TG09RTR4579  Non Transport   \n",
       "70431        30/01/2030             N            TG09RTR4549  Non Transport   \n",
       "70432        30/01/2028             N            TG09RTR4413  Non Transport   \n",
       "\n",
       "                            makerName          OfficeCd    fromdate  \\\n",
       "70428            HONDA CARS INDIA LTD       RTA MEDCHAL  31/01/2025   \n",
       "70429  TOYOTA KIRLOSKAR MOTOR PVT LTD         RTA UPPAL  31/01/2025   \n",
       "70430  HONDA MOTORCYCLE&SCOOTER(I)P L  RTA-HYDERABAD-EZ  31/01/2025   \n",
       "70431               HERO MOTOCORP LTD    RTA RANGAREDDY  31/01/2025   \n",
       "70432       MARUTI SUZUKI INDIA LTD.,       RTA MEDCHAL  31/01/2025   \n",
       "\n",
       "           todate  \n",
       "70428  31/01/2025  \n",
       "70429  31/01/2025  \n",
       "70430  31/01/2025  \n",
       "70431  31/01/2025  \n",
       "70432  31/01/2025  "
      ]
     },
     "execution_count": 7,
     "metadata": {},
     "output_type": "execute_result"
    }
   ],
   "source": [
    "df.tail(5)"
   ]
  },
  {
   "cell_type": "code",
   "execution_count": 9,
   "id": "7b3b5865-0afb-4684-86d5-511eec5fb83c",
   "metadata": {},
   "outputs": [
    {
     "name": "stdout",
     "output_type": "stream",
     "text": [
      "<class 'pandas.core.frame.DataFrame'>\n",
      "RangeIndex: 70433 entries, 0 to 70432\n",
      "Data columns (total 15 columns):\n",
      " #   Column                  Non-Null Count  Dtype \n",
      "---  ------                  --------------  ----- \n",
      " 0   slno                    70433 non-null  int64 \n",
      " 1   modelDesc               70433 non-null  object\n",
      " 2   fuel                    69285 non-null  object\n",
      " 3   colour                  70368 non-null  object\n",
      " 4   vehicleClass            70433 non-null  object\n",
      " 5   makeYear                70433 non-null  object\n",
      " 6   seatCapacity            70433 non-null  int64 \n",
      " 7   insuranceValidity       70391 non-null  object\n",
      " 8   secondVehicle           70433 non-null  object\n",
      " 9   tempRegistrationNumber  70433 non-null  object\n",
      " 10  category                70433 non-null  object\n",
      " 11  makerName               70433 non-null  object\n",
      " 12  OfficeCd                70433 non-null  object\n",
      " 13  fromdate                70433 non-null  object\n",
      " 14  todate                  70433 non-null  object\n",
      "dtypes: int64(2), object(13)\n",
      "memory usage: 8.1+ MB\n"
     ]
    }
   ],
   "source": [
    "df.info()"
   ]
  },
  {
   "cell_type": "code",
   "execution_count": 11,
   "id": "fbaaa86e-7ae5-4139-babf-c47e9e2c7644",
   "metadata": {},
   "outputs": [
    {
     "data": {
      "text/html": [
       "<div>\n",
       "<style scoped>\n",
       "    .dataframe tbody tr th:only-of-type {\n",
       "        vertical-align: middle;\n",
       "    }\n",
       "\n",
       "    .dataframe tbody tr th {\n",
       "        vertical-align: top;\n",
       "    }\n",
       "\n",
       "    .dataframe thead th {\n",
       "        text-align: right;\n",
       "    }\n",
       "</style>\n",
       "<table border=\"1\" class=\"dataframe\">\n",
       "  <thead>\n",
       "    <tr style=\"text-align: right;\">\n",
       "      <th></th>\n",
       "      <th>slno</th>\n",
       "      <th>seatCapacity</th>\n",
       "    </tr>\n",
       "  </thead>\n",
       "  <tbody>\n",
       "    <tr>\n",
       "      <th>count</th>\n",
       "      <td>70433.000000</td>\n",
       "      <td>70433.000000</td>\n",
       "    </tr>\n",
       "    <tr>\n",
       "      <th>mean</th>\n",
       "      <td>35217.000000</td>\n",
       "      <td>2.608280</td>\n",
       "    </tr>\n",
       "    <tr>\n",
       "      <th>std</th>\n",
       "      <td>20332.400092</td>\n",
       "      <td>2.310843</td>\n",
       "    </tr>\n",
       "    <tr>\n",
       "      <th>min</th>\n",
       "      <td>1.000000</td>\n",
       "      <td>0.000000</td>\n",
       "    </tr>\n",
       "    <tr>\n",
       "      <th>25%</th>\n",
       "      <td>17609.000000</td>\n",
       "      <td>2.000000</td>\n",
       "    </tr>\n",
       "    <tr>\n",
       "      <th>50%</th>\n",
       "      <td>35217.000000</td>\n",
       "      <td>2.000000</td>\n",
       "    </tr>\n",
       "    <tr>\n",
       "      <th>75%</th>\n",
       "      <td>52825.000000</td>\n",
       "      <td>2.000000</td>\n",
       "    </tr>\n",
       "    <tr>\n",
       "      <th>max</th>\n",
       "      <td>70433.000000</td>\n",
       "      <td>60.000000</td>\n",
       "    </tr>\n",
       "  </tbody>\n",
       "</table>\n",
       "</div>"
      ],
      "text/plain": [
       "               slno  seatCapacity\n",
       "count  70433.000000  70433.000000\n",
       "mean   35217.000000      2.608280\n",
       "std    20332.400092      2.310843\n",
       "min        1.000000      0.000000\n",
       "25%    17609.000000      2.000000\n",
       "50%    35217.000000      2.000000\n",
       "75%    52825.000000      2.000000\n",
       "max    70433.000000     60.000000"
      ]
     },
     "execution_count": 11,
     "metadata": {},
     "output_type": "execute_result"
    }
   ],
   "source": [
    "df.describe()"
   ]
  },
  {
   "cell_type": "code",
   "execution_count": 13,
   "id": "8de86f56-c2b9-46a8-b619-b9edd9c964fa",
   "metadata": {},
   "outputs": [
    {
     "data": {
      "text/plain": [
       "(70433, 15)"
      ]
     },
     "execution_count": 13,
     "metadata": {},
     "output_type": "execute_result"
    }
   ],
   "source": [
    "df.shape"
   ]
  },
  {
   "cell_type": "code",
   "execution_count": 15,
   "id": "f2601c0f-aa9b-4202-93d0-73e16b10594d",
   "metadata": {},
   "outputs": [],
   "source": [
    "df.drop(columns=['fuel', 'colour', 'seatCapacity'], inplace=True)"
   ]
  },
  {
   "cell_type": "code",
   "execution_count": 17,
   "id": "7dd7f73e-669a-442a-b097-6aa1187a3627",
   "metadata": {},
   "outputs": [
    {
     "data": {
      "text/plain": [
       "(70433, 12)"
      ]
     },
     "execution_count": 17,
     "metadata": {},
     "output_type": "execute_result"
    }
   ],
   "source": [
    "df.shape"
   ]
  },
  {
   "cell_type": "markdown",
   "id": "c56491c2-fccb-4bfa-b015-54f69ebd08ca",
   "metadata": {},
   "source": [
    "# Data Preprocessing - Data Cleaning"
   ]
  },
  {
   "cell_type": "code",
   "execution_count": 19,
   "id": "11cb0718-3f31-4fbf-b0a3-95a6e30ffed8",
   "metadata": {},
   "outputs": [],
   "source": [
    "# Convert 'insuranceValidity' to datetime\n",
    "df['insuranceValidity'] = pd.to_datetime(df['insuranceValidity'],errors='coerce')"
   ]
  },
  {
   "cell_type": "code",
   "execution_count": 21,
   "id": "f8520401-10dd-4807-b282-e4560aadc9b4",
   "metadata": {},
   "outputs": [],
   "source": [
    "# Extract the year of insurance validity\n",
    "df['insuranceYear'] = df['insuranceValidity'].dt.year"
   ]
  },
  {
   "cell_type": "code",
   "execution_count": 23,
   "id": "93d7be56-b049-4cfd-9a72-b64554524991",
   "metadata": {},
   "outputs": [
    {
     "name": "stdout",
     "output_type": "stream",
     "text": [
      "        slno                                        modelDesc    vehicleClass  \\\n",
      "0          1                         TVS JUPITER 113 BSVI-PH2     MOTOR CYCLE   \n",
      "1          2                          KTM - 250 DUKE BSVI-PH2     MOTOR CYCLE   \n",
      "2          3                          SHINE 125 DRUM BSVI-PH2     MOTOR CYCLE   \n",
      "3          4  UE2825/39 T TIP BGS 16 CU M  295/90R20 BSVI-PH2  Goods Carriage   \n",
      "4          5                          SHINE 125 DISK BSVI-PH2     MOTOR CYCLE   \n",
      "...      ...                                              ...             ...   \n",
      "70428  70429             AMAZE 3RD GEN ZX MT(I-VTEC) BSVI-PH2       MOTOR CAR   \n",
      "70429  70430            INNOVA HYCROSS HYBRID ZX(7S) BSVI-PH2       MOTOR CAR   \n",
      "70430  70431                       ACTIVA 125 SMART. BSVI-PH2     MOTOR CYCLE   \n",
      "70431  70432                      PASSION + I 3S DRS BSVI-PH2     MOTOR CYCLE   \n",
      "70432  70433   MARUTI XL6 SMART HYBRID ALPHA 1.5L5MT BSVI-PH2       MOTOR CAR   \n",
      "\n",
      "         makeYear insuranceValidity secondVehicle tempRegistrationNumber  \\\n",
      "0      01/12/2024        2029-12-31             N            TG09QTR2266   \n",
      "1      01/12/2024        2029-12-31             N            TG07LTR7586   \n",
      "2      01/11/2024        2029-12-31             N            TG08KTR6798   \n",
      "3      01/11/2024        2025-12-31             N            TG10GTR2075   \n",
      "4      01/12/2024        2029-12-30             N            TG08KTR6920   \n",
      "...           ...               ...           ...                    ...   \n",
      "70428  01/01/2025        2028-01-30             N            TG08LTR4594   \n",
      "70429  01/01/2025        2028-01-30             N            TG07MTR6426   \n",
      "70430  01/01/2025        2030-01-30             Y            TG09RTR4579   \n",
      "70431  01/07/2024        2030-01-30             N            TG09RTR4549   \n",
      "70432  01/02/2024        2028-01-30             N            TG09RTR4413   \n",
      "\n",
      "            category                       makerName  \\\n",
      "0      Non Transport           TVS MOTOR COMPANY LTD   \n",
      "1      Non Transport                  BAJAJ AUTO LTD   \n",
      "2      Non Transport  HONDA MOTORCYCLE&SCOOTER(I)P L   \n",
      "3          Transport               ASHOK LEYLAND LTD   \n",
      "4      Non Transport  HONDA MOTORCYCLE&SCOOTER(I)P L   \n",
      "...              ...                             ...   \n",
      "70428  Non Transport            HONDA CARS INDIA LTD   \n",
      "70429  Non Transport  TOYOTA KIRLOSKAR MOTOR PVT LTD   \n",
      "70430  Non Transport  HONDA MOTORCYCLE&SCOOTER(I)P L   \n",
      "70431  Non Transport               HERO MOTOCORP LTD   \n",
      "70432  Non Transport       MARUTI SUZUKI INDIA LTD.,   \n",
      "\n",
      "                       OfficeCd    fromdate      todate  insuranceYear  \n",
      "0              RTA-HYDERABAD-WZ  01/01/2025  01/01/2025         2029.0  \n",
      "1                RTA RANGAREDDY  01/01/2025  01/01/2025         2029.0  \n",
      "2              RTA-HYDERABAD-NZ  01/01/2025  01/01/2025         2029.0  \n",
      "3                   RTA MEDCHAL  01/01/2025  01/01/2025         2025.0  \n",
      "4      UNIT OFFICE PATANCHERUVU  01/01/2025  01/01/2025         2029.0  \n",
      "...                         ...         ...         ...            ...  \n",
      "70428               RTA MEDCHAL  31/01/2025  31/01/2025         2028.0  \n",
      "70429                 RTA UPPAL  31/01/2025  31/01/2025         2028.0  \n",
      "70430          RTA-HYDERABAD-EZ  31/01/2025  31/01/2025         2030.0  \n",
      "70431            RTA RANGAREDDY  31/01/2025  31/01/2025         2030.0  \n",
      "70432               RTA MEDCHAL  31/01/2025  31/01/2025         2028.0  \n",
      "\n",
      "[70433 rows x 13 columns]\n"
     ]
    }
   ],
   "source": [
    "print(df)"
   ]
  },
  {
   "cell_type": "code",
   "execution_count": 25,
   "id": "75365673-06ed-42cf-8cbb-cba8e0aecb40",
   "metadata": {},
   "outputs": [
    {
     "name": "stdout",
     "output_type": "stream",
     "text": [
      "Number of vehicles needing renewal in 2025: 941\n"
     ]
    }
   ],
   "source": [
    "# Count vehicles needing renewal in 2025\n",
    "renewals_2025 = df[df['insuranceYear'] == 2025].shape[0]\n",
    "print(\"Number of vehicles needing renewal in 2025:\", renewals_2025)"
   ]
  },
  {
   "cell_type": "code",
   "execution_count": 27,
   "id": "c4ee90d3-ae5f-498f-ab2c-dbc1cf235ae7",
   "metadata": {},
   "outputs": [
    {
     "data": {
      "text/plain": [
       "slno                       0\n",
       "modelDesc                  0\n",
       "vehicleClass               0\n",
       "makeYear                   0\n",
       "insuranceValidity         44\n",
       "secondVehicle              0\n",
       "tempRegistrationNumber     0\n",
       "category                   0\n",
       "makerName                  0\n",
       "OfficeCd                   0\n",
       "fromdate                   0\n",
       "todate                     0\n",
       "insuranceYear             44\n",
       "dtype: int64"
      ]
     },
     "execution_count": 27,
     "metadata": {},
     "output_type": "execute_result"
    }
   ],
   "source": [
    "df.isnull().sum()"
   ]
  },
  {
   "cell_type": "code",
   "execution_count": 29,
   "id": "db74c45b-c77f-4b11-be67-c4d2cfcd886d",
   "metadata": {},
   "outputs": [],
   "source": [
    "df = df.dropna(subset=['insuranceValidity'])"
   ]
  },
  {
   "cell_type": "code",
   "execution_count": 31,
   "id": "f17e07f1-fe6a-4a8d-8b77-e4896fc64bbb",
   "metadata": {},
   "outputs": [
    {
     "data": {
      "text/plain": [
       "slno                      0\n",
       "modelDesc                 0\n",
       "vehicleClass              0\n",
       "makeYear                  0\n",
       "insuranceValidity         0\n",
       "secondVehicle             0\n",
       "tempRegistrationNumber    0\n",
       "category                  0\n",
       "makerName                 0\n",
       "OfficeCd                  0\n",
       "fromdate                  0\n",
       "todate                    0\n",
       "insuranceYear             0\n",
       "dtype: int64"
      ]
     },
     "execution_count": 31,
     "metadata": {},
     "output_type": "execute_result"
    }
   ],
   "source": [
    "df.isnull().sum()"
   ]
  },
  {
   "cell_type": "code",
   "execution_count": 33,
   "id": "3bac6812-a69c-422b-9257-283ed932fbe2",
   "metadata": {},
   "outputs": [
    {
     "data": {
      "text/plain": [
       "0"
      ]
     },
     "execution_count": 33,
     "metadata": {},
     "output_type": "execute_result"
    }
   ],
   "source": [
    "df.duplicated().sum()"
   ]
  },
  {
   "cell_type": "code",
   "execution_count": 35,
   "id": "ef36aa28-eaa1-4444-9419-dcc7b111ae24",
   "metadata": {},
   "outputs": [
    {
     "data": {
      "image/png": "[encoded data removed]",
      "text/plain": [
       "<Figure size 1000x600 with 1 Axes>"
      ]
     },
     "metadata": {},
     "output_type": "display_data"
    },
    {
     "data": {
      "image/png": "[encoded data removed]",
      "text/plain": [
       "<Figure size 1000x600 with 1 Axes>"
      ]
     },
     "metadata": {},
     "output_type": "display_data"
    }
   ],
   "source": [
    "# Box Plot for visualize outliers\n",
    "columns = df.select_dtypes(include = ['number'])\n",
    "\n",
    "for col in columns.columns:\n",
    "    plt.figure(figsize=(10,6))\n",
    "    columns.boxplot(column = col)\n",
    "    plt.title(f\" Box Plot for {col}\")\n",
    "    plt.ylabel('Values')\n",
    "    plt.show()"
   ]
  },
  {
   "cell_type": "code",
   "execution_count": 37,
   "id": "a5891fdb-c07b-4e10-ab84-171206c1b32e",
   "metadata": {},
   "outputs": [],
   "source": [
    "# Outlier's removel with IQR\n",
    "def handle_outlier(df):\n",
    "    for col in df.select_dtypes(include = ['int64','float64']).columns:\n",
    "        Q1 = df[col].quantile(0.25)\n",
    "        Q3 = df[col].quantile(0.75)\n",
    "\n",
    "        IQR = Q3 - Q1\n",
    "\n",
    "        lower = Q1 - 1.5 *IQR\n",
    "        upper = Q3 + 1.5 *IQR\n",
    "\n",
    "        df[col] = df[col].apply(lambda x: \n",
    "        lower if x<lower else \n",
    "        upper if x>upper else\n",
    "        x)\n",
    "    return df\n",
    "df1 = handle_outlier(df)"
   ]
  },
  {
   "cell_type": "code",
   "execution_count": 39,
   "id": "c3764cda-2b71-4b3d-8829-6337c762ae81",
   "metadata": {
    "scrolled": true
   },
   "outputs": [
    {
     "data": {
      "image/png": "[encoded data removed]",
      "text/plain": [
       "<Figure size 640x480 with 1 Axes>"
      ]
     },
     "metadata": {},
     "output_type": "display_data"
    },
    {
     "data": {
      "image/png": "[encoded data removed]",
      "text/plain": [
       "<Figure size 640x480 with 1 Axes>"
      ]
     },
     "metadata": {},
     "output_type": "display_data"
    }
   ],
   "source": [
    "# Box-Plot after removing outliers\n",
    "column = df1.select_dtypes(include=['int64','float64'])\n",
    "\n",
    "for col in column.columns:\n",
    "    plt.figure()\n",
    "    column.boxplot(column = col)\n",
    "    plt.title(f\"Box Plot for {col} after IQR\")\n",
    "    plt.ylabel('Value')\n",
    "    plt.show()"
   ]
  },
  {
   "cell_type": "markdown",
   "id": "46b024a8-e756-40a7-8989-69b03b90c2c2",
   "metadata": {},
   "source": [
    "# Exploratory Data Analysis (EDA)"
   ]
  },
  {
   "cell_type": "code",
   "execution_count": 41,
   "id": "ff33e948-3ed9-4b40-8f3f-262b0d8436c1",
   "metadata": {},
   "outputs": [
    {
     "name": "stdout",
     "output_type": "stream",
     "text": [
      "Index(['slno', 'modelDesc', 'vehicleClass', 'makeYear', 'insuranceValidity',\n",
      "       'secondVehicle', 'tempRegistrationNumber', 'category', 'makerName',\n",
      "       'OfficeCd', 'fromdate', 'todate', 'insuranceYear'],\n",
      "      dtype='object')\n"
     ]
    }
   ],
   "source": [
    "print(df.columns)"
   ]
  },
  {
   "cell_type": "code",
   "execution_count": 43,
   "id": "3a23c21a-d41d-4d66-9238-be504f62146c",
   "metadata": {},
   "outputs": [
    {
     "data": {
      "image/png": "[encoded data removed]",
      "text/plain": [
       "<Figure size 800x800 with 1 Axes>"
      ]
     },
     "metadata": {},
     "output_type": "display_data"
    }
   ],
   "source": [
    "# Pie Chart - Distribution of vehicle categories\n",
    "plt.figure(figsize=(8, 8))\n",
    "df['category'].value_counts().plot.pie(autopct='%1.1f%%', cmap='coolwarm')\n",
    "plt.title(\"Vehicle Category Distribution\")\n",
    "plt.ylabel(\"\")\n",
    "plt.show()"
   ]
  },
  {
   "cell_type": "code",
   "execution_count": 45,
   "id": "4f291487-5a10-472f-93ea-6dfb33fe8d83",
   "metadata": {},
   "outputs": [
    {
     "data": {
      "image/png": "[encoded data removed]",
      "text/plain": [
       "<Figure size 640x480 with 1 Axes>"
      ]
     },
     "metadata": {},
     "output_type": "display_data"
    }
   ],
   "source": [
    "# Bar Plot - Top 10 vehicle makers\n",
    "top_makers = df['makerName'].value_counts().head(10)\n",
    "top_makers.plot(kind='bar', color='skyblue')\n",
    "plt.title(\"Top 10 Vehicle Makers\")\n",
    "plt.xlabel(\"Maker Name\")\n",
    "plt.ylabel(\"Count\")\n",
    "plt.xticks(rotation=45)\n",
    "plt.show()"
   ]
  },
  {
   "cell_type": "code",
   "execution_count": 47,
   "id": "3b268219-804d-4670-a699-a871ebd935f8",
   "metadata": {},
   "outputs": [
    {
     "data": {
      "image/png": "[encoded data removed]",
      "text/plain": [
       "<Figure size 1000x600 with 1 Axes>"
      ]
     },
     "metadata": {},
     "output_type": "display_data"
    }
   ],
   "source": [
    "# Histogram for Insurance Year Distribution\n",
    "plt.figure(figsize=(10, 6))\n",
    "sns.histplot(df['insuranceYear'].dropna(), bins=20, kde=False, color='blue')\n",
    "plt.title(\"Insurance Year Distribution (Histogram)\")\n",
    "plt.xlabel(\"Insurance Year\")\n",
    "plt.ylabel(\"Frequency\")\n",
    "plt.show()"
   ]
  },
  {
   "cell_type": "code",
   "execution_count": 49,
   "id": "586f4e3d-78a3-4e9e-b704-30396a27ecf5",
   "metadata": {},
   "outputs": [
    {
     "data": {
      "image/png": "[encoded data removed]",
      "text/plain": [
       "<Figure size 1000x600 with 1 Axes>"
      ]
     },
     "metadata": {},
     "output_type": "display_data"
    }
   ],
   "source": [
    "# Kernel Density Estimation (KDE) for Insurance Year\n",
    "plt.figure(figsize=(10, 6))\n",
    "sns.kdeplot(df['insuranceYear'].dropna(), fill=True, color='green')\n",
    "plt.title(\"Kernel Density Estimation (KDE) for Insurance Year\")\n",
    "plt.xlabel(\"Insurance Year\")\n",
    "plt.ylabel(\"Density\")\n",
    "plt.show()"
   ]
  },
  {
   "cell_type": "code",
   "execution_count": 51,
   "id": "8c564b0d-c03d-4119-beea-cfac1e983fb9",
   "metadata": {},
   "outputs": [
    {
     "data": {
      "image/png": "[encoded data removed]",
      "text/plain": [
       "<Figure size 1000x600 with 2 Axes>"
      ]
     },
     "metadata": {},
     "output_type": "display_data"
    }
   ],
   "source": [
    "# Generate heatmap for numerical columns only\n",
    "numerical_df = df.select_dtypes(include=['number'])  # Select only numeric columns\n",
    "plt.figure(figsize=(10, 6))\n",
    "sns.heatmap(numerical_df.corr(), annot=True, cmap='coolwarm', fmt='.2f', linewidths=0.5)\n",
    "plt.title(\"Correlation Heatmap\")\n",
    "plt.show()"
   ]
  },
  {
   "cell_type": "markdown",
   "id": "bc646751-9300-40b5-9992-1fbfd1d2644b",
   "metadata": {},
   "source": [
    "# Feature Selection"
   ]
  },
  {
   "cell_type": "code",
   "execution_count": 55,
   "id": "c6db767f-558a-4afa-82ac-9ad73255a92b",
   "metadata": {},
   "outputs": [],
   "source": [
    "# Splitting the dataset into training and testing sets\n",
    "X = df1.drop('insuranceYear', axis=1)\n",
    "y = df1['insuranceYear']"
   ]
  },
  {
   "cell_type": "code",
   "execution_count": 116,
   "id": "2e0ab1c7-b559-4830-a6b5-b6f09011bfed",
   "metadata": {},
   "outputs": [
    {
     "name": "stdout",
     "output_type": "stream",
     "text": [
      "   slno  modelDesc  vehicleClass  makeYear insuranceValidity  secondVehicle  \\\n",
      "0     1       2078            10        53        2029-12-31              0   \n",
      "1     2       1102            10        53        2029-12-31              0   \n",
      "2     3       1709            10        49        2029-12-31              0   \n",
      "3     4       2121             7        49        2025-12-31              0   \n",
      "4     5       1708            10        53        2029-12-30              0   \n",
      "\n",
      "   tempRegistrationNumber  category  makerName  OfficeCd  fromdate  todate  \n",
      "0                   31983         0        351        38         0       0  \n",
      "1                   15337         0          7        25         0       0  \n",
      "2                   24060         0         46        36         0       0  \n",
      "3                   43914         1          4        16         0       0  \n",
      "4                   24151         0         46        49         0       0  \n"
     ]
    }
   ],
   "source": [
    "from sklearn.preprocessing import LabelEncoder\n",
    "\n",
    "categorical_columns = ['vehicleClass', 'secondVehicle', 'category', 'OfficeCd', 'fromdate', 'todate', 'makerName', 'modelDesc', 'makeYear', 'tempRegistrationNumber']  # List your categorical columns\n",
    "\n",
    "# Apply Label Encoding to each categorical column\n",
    "encoder = LabelEncoder()\n",
    "for col in categorical_columns:\n",
    "    X[col] = encoder.fit_transform(X[col])\n",
    "\n",
    "# Check transformed data\n",
    "print(X.head())"
   ]
  },
  {
   "cell_type": "code",
   "execution_count": 120,
   "id": "67912419-936f-410a-8686-344893865770",
   "metadata": {},
   "outputs": [
    {
     "name": "stdout",
     "output_type": "stream",
     "text": [
      "Top Selected Features:\n",
      "                   Feature          Score\n",
      "4       insuranceValidity  733508.288134\n",
      "7                category   89743.466572\n",
      "2            vehicleClass    3239.128581\n",
      "1               modelDesc    1693.067296\n",
      "5           secondVehicle     746.316676\n",
      "9                OfficeCd     640.506751\n",
      "8               makerName     569.728503\n",
      "3                makeYear      15.335822\n",
      "6  tempRegistrationNumber       6.509149\n",
      "0                    slno       0.506007\n",
      "\n",
      "All Feature Scores:\n",
      "                    Feature          Score\n",
      "4        insuranceValidity  733508.288134\n",
      "7                 category   89743.466572\n",
      "2             vehicleClass    3239.128581\n",
      "1                modelDesc    1693.067296\n",
      "5            secondVehicle     746.316676\n",
      "9                 OfficeCd     640.506751\n",
      "8                makerName     569.728503\n",
      "3                 makeYear      15.335822\n",
      "6   tempRegistrationNumber       6.509149\n",
      "0                     slno       0.506007\n",
      "10                fromdate       0.108697\n",
      "11                  todate       0.108697\n"
     ]
    }
   ],
   "source": [
    "# Convert datetime columns to numerical values\n",
    "def preprocess_data(X):\n",
    "    for col in X.select_dtypes(include=['datetime64']):  # Identify datetime columns\n",
    "        X[col] = X[col].astype('int64') // 10**9  # Convert to Unix timestamp (seconds)\n",
    "    return X\n",
    "\n",
    "# Function to select best K features for regression\n",
    "def select_best_features(X, y, K=10):\n",
    "    X = preprocess_data(X)  # Convert datetime columns\n",
    "    selector = SelectKBest(score_func=f_regression, k=K)  # Use f_regression for regression problems\n",
    "    X_new = selector.fit_transform(X, y)  # Apply feature selection\n",
    "    \n",
    "    # Get feature scores\n",
    "    feature_scores = pd.DataFrame({'Feature': X.columns, 'Score': selector.scores_})\n",
    "    feature_scores = feature_scores.sort_values(by='Score', ascending=False)\n",
    "    \n",
    "    print(\"Top Selected Features:\\n\", feature_scores.head(K))  # Print selected features\n",
    "    \n",
    "    return X_new, feature_scores  # Return both selected features and scores\n",
    "\n",
    "# Set K (number of top features to select)\n",
    "K = 10\n",
    "\n",
    "# Preprocess and Apply feature selection\n",
    "X = preprocess_data(X)\n",
    "X_selected, feature_scores = select_best_features(X, y, K)\n",
    "\n",
    "# Print all feature scores (optional)\n",
    "print(\"\\nAll Feature Scores:\\n\", feature_scores)"
   ]
  },
  {
   "cell_type": "markdown",
   "id": "fafeffb0-20f7-4ae5-91ac-fdf52d604525",
   "metadata": {},
   "source": [
    "# Split Data into Training and Testing Sets"
   ]
  },
  {
   "cell_type": "code",
   "execution_count": 122,
   "id": "9d7d232b-5389-4ca3-b9cf-18d562d27818",
   "metadata": {},
   "outputs": [],
   "source": [
    "X_train, X_test, y_train, y_test = train_test_split(X, y, test_size=0.2, random_state=42)"
   ]
  },
  {
   "cell_type": "code",
   "execution_count": 124,
   "id": "8573d76b-8993-4616-8f79-591ce1a58d28",
   "metadata": {},
   "outputs": [
    {
     "name": "stdout",
     "output_type": "stream",
     "text": [
      "Training feature set shape: (56311, 12)\n",
      "Testing feature set shape: (14078, 12)\n",
      "Training target set shape: (56311,)\n",
      "Testing target set shape: (14078,)\n"
     ]
    }
   ],
   "source": [
    "# Check the shapes of the resulting datasets\n",
    "print(\"Training feature set shape:\", X_train.shape)\n",
    "print(\"Testing feature set shape:\", X_test.shape)\n",
    "print(\"Training target set shape:\", y_train.shape)\n",
    "print(\"Testing target set shape:\", y_test.shape)"
   ]
  },
  {
   "cell_type": "markdown",
   "id": "e27f343a-5c26-4808-8146-79ae24d9c769",
   "metadata": {},
   "source": [
    "# Feature Scaling"
   ]
  },
  {
   "cell_type": "code",
   "execution_count": 126,
   "id": "5bdff336-9a78-487e-8ee5-05904a3d7b62",
   "metadata": {},
   "outputs": [],
   "source": [
    "scaler = StandardScaler()\n",
    "X_train_scaled = scaler.fit_transform(X_train)\n",
    "X_test_scaled  = scaler.fit_transform(X_test)"
   ]
  },
  {
   "cell_type": "markdown",
   "id": "fc29e243-59ea-4a17-86f8-116adac7cf31",
   "metadata": {},
   "source": [
    "# Build the ML Model"
   ]
  },
  {
   "cell_type": "code",
   "execution_count": 148,
   "id": "f45c5bf3-df70-40ee-8fe2-aefa0bb8de41",
   "metadata": {},
   "outputs": [],
   "source": [
    "from sklearn.tree import DecisionTreeRegressor\n",
    "from sklearn.svm import SVR"
   ]
  },
  {
   "cell_type": "code",
   "execution_count": 154,
   "id": "a8f531c4-33b1-4c53-8c24-184b150fc526",
   "metadata": {},
   "outputs": [],
   "source": [
    "models = {\n",
    "    '1. Linear Regression' : LinearRegression(),\n",
    "    '2. Decision Tree Regressor' : DecisionTreeRegressor(),\n",
    "    '3. Random Forest Regressor' : RandomForestRegressor(),\n",
    "    '4. Gradient Boosting Regressor' : GradientBoostingRegressor(),\n",
    "    '5. Support Vector Regressor' : SVR(),\n",
    "    '6. Lasso Regression' : Lasso(),\n",
    "    '7. AdaBoost Regressor' : AdaBoostRegressor()\n",
    "}"
   ]
  },
  {
   "cell_type": "markdown",
   "id": "abc5cd2e-0b2e-413a-b925-b0ebece82685",
   "metadata": {},
   "source": [
    "# Model Evaluation"
   ]
  },
  {
   "cell_type": "code",
   "execution_count": 156,
   "id": "1fa115c4-3652-47a2-86c2-d98389ab027e",
   "metadata": {},
   "outputs": [
    {
     "name": "stdout",
     "output_type": "stream",
     "text": [
      "                                     MSE       MAE  R² Score      RMSE\n",
      "1. Linear Regression            0.083106  0.198923  0.962266  0.288281\n",
      "2. Decision Tree Regressor      0.241298  0.241298  0.890439  0.491221\n",
      "3. Random Forest Regressor      0.241300  0.241309  0.890438  0.491223\n",
      "4. Gradient Boosting Regressor  0.241260  0.241299  0.890456  0.491183\n",
      "5. Support Vector Regressor     0.050574  0.113905  0.977037  0.224887\n",
      "6. Lasso Regression             1.159420  0.906659  0.473566  1.076764\n",
      "7. AdaBoost Regressor           0.241298  0.241298  0.890439  0.491221\n"
     ]
    }
   ],
   "source": [
    "# Train and evaluate models\n",
    "results = {}\n",
    "for model_name, model in models.items():\n",
    "    model.fit(X_train_scaled, y_train)\n",
    "    y_pred = model.predict(X_test_scaled)\n",
    "\n",
    "    mse = mean_squared_error(y_test, y_pred)\n",
    "    mae = mean_absolute_error(y_test, y_pred)\n",
    "    r2 = r2_score(y_test, y_pred)\n",
    "    rmse = np.sqrt(mse)\n",
    "    \n",
    "    results[model_name] = {'MSE': mse, 'MAE': mae, 'R² Score': r2, 'RMSE': rmse}\n",
    "\n",
    "# Convert results to DataFrame\n",
    "import pandas as pd\n",
    "results_df = pd.DataFrame(results).T\n",
    "print(results_df)"
   ]
  },
  {
   "cell_type": "code",
   "execution_count": 160,
   "id": "416530a6-16d6-42f4-aea3-364ada6a9916",
   "metadata": {},
   "outputs": [
    {
     "name": "stdout",
     "output_type": "stream",
     "text": [
      "The best Model based on R2 Score is:\n",
      " 5. Support Vector Regressor\n",
      "MSE         0.050574\n",
      "MAE         0.113905\n",
      "R² Score    0.977037\n",
      "RMSE        0.224887\n",
      "Name: 5. Support Vector Regressor, dtype: float64\n"
     ]
    }
   ],
   "source": [
    "# Finding The Best Model\n",
    "best_model = results_df['R² Score'].idxmax()\n",
    "print(f'The best Model based on R2 Score is:\\n {best_model}')\n",
    "print(results_df.loc[best_model])"
   ]
  },
  {
   "cell_type": "markdown",
   "id": "6365aa27-4bbb-406e-bfe4-4f172a366fbf",
   "metadata": {},
   "source": [
    "# Hyperparameter Tuning"
   ]
  },
  {
   "cell_type": "code",
   "execution_count": 169,
   "id": "974b0a79-ae9e-4f6c-b544-24299f86bd85",
   "metadata": {},
   "outputs": [],
   "source": [
    "# Define the parameter grid for Grid Search\n",
    "param_grid = {\n",
    "    'n_estimators': [50, 100],\n",
    "    'max_features': ['auto', 'sqrt', 'log2'],\n",
    "    'max_depth': [None, 10,],\n",
    "    'min_samples_split': [2, 5],\n",
    "    'min_samples_leaf': [1, 2]\n",
    "}"
   ]
  },
  {
   "cell_type": "code",
   "execution_count": 171,
   "id": "5be309de-0ce9-472d-8df5-e5658f7334ef",
   "metadata": {},
   "outputs": [],
   "source": [
    "# Initialize the Grid Search\n",
    "grid_search = GridSearchCV(estimator=RandomForestRegressor(random_state=42), param_grid=param_grid, \n",
    "                           cv=5, scoring='neg_mean_squared_error',verbose =1, n_jobs=-1)"
   ]
  },
  {
   "cell_type": "code",
   "execution_count": 173,
   "id": "400133e6-ee22-48aa-842e-178a16d69e0f",
   "metadata": {},
   "outputs": [
    {
     "name": "stdout",
     "output_type": "stream",
     "text": [
      "Fitting 5 folds for each of 48 candidates, totalling 240 fits\n",
      "Best Parameters: {'max_depth': None, 'max_features': 'sqrt', 'min_samples_leaf': 1, 'min_samples_split': 5, 'n_estimators': 50}\n",
      "Best Cross-Validation MSE Score: 0.002013518108838934\n"
     ]
    }
   ],
   "source": [
    "# Fit the Grid Search to the data\n",
    "grid_search.fit(X_train_scaled, y_train)\n",
    "\n",
    "best_param = grid_search.best_params_\n",
    "best_score = grid_search.best_score_\n",
    "\n",
    "# Get the best parameters and score\n",
    "print(f\"Best Parameters: {best_param}\")\n",
    "print(f\"Best Cross-Validation MSE Score: {-best_score}\")"
   ]
  },
  {
   "cell_type": "code",
   "execution_count": 175,
   "id": "1f290e71-bbd1-47f4-b2d8-2137701f9451",
   "metadata": {},
   "outputs": [
    {
     "name": "stdout",
     "output_type": "stream",
     "text": [
      "Test MSE: 0.18793357096845414\n",
      "Test MAE: 0.18793357096845414\n",
      "Test R2: 0.9146688529626364\n",
      "Test RMSE: 0.4335130574370905\n"
     ]
    }
   ],
   "source": [
    "best_model = grid_search.best_estimator_\n",
    "best_model.fit(X_train_scaled, y_train)\n",
    "\n",
    "# Predict on the test data\n",
    "y_test_pred = best_model.predict(X_test_scaled)\n",
    "\n",
    "# Evaluate the model\n",
    "test_mse = mean_squared_error(y_test, y_test_pred)\n",
    "test_mae = mean_squared_error(y_test, y_test_pred)\n",
    "test_r2 = r2_score(y_test, y_test_pred)\n",
    "test_rmse = np.sqrt(mean_squared_error(y_test, y_test_pred))\n",
    "\n",
    "# Printing the results\n",
    "print(f\"Test MSE: {test_mse}\")\n",
    "print(f\"Test MAE: {test_mae}\")\n",
    "print(f\"Test R2: {test_r2}\")\n",
    "print(f\"Test RMSE: {test_rmse}\")"
   ]
  },
  {
   "cell_type": "code",
   "execution_count": 177,
   "id": "964346e2-163c-4e09-96a0-0e58ef6c944e",
   "metadata": {},
   "outputs": [],
   "source": [
    "# Evaluating Model Performance with Residual Analysis\n",
    "\n",
    "# Predicting values  \n",
    "y_train_pred = best_model.predict(X_train_scaled)  \n",
    "residuals = y_train - y_train_pred"
   ]
  },
  {
   "cell_type": "code",
   "execution_count": 179,
   "id": "bc24aebb-1044-4dc6-ae42-44ca72001b86",
   "metadata": {},
   "outputs": [
    {
     "name": "stdout",
     "output_type": "stream",
     "text": [
      "Cross-Validation MSE: 0.002013518108838934\n"
     ]
    }
   ],
   "source": [
    "# Cross-validate the model  \n",
    "cv_scores = cross_val_score(best_model, X_train_scaled, y_train, cv=5, scoring='neg_mean_squared_error')  \n",
    "print(f'Cross-Validation MSE: {-cv_scores.mean()}')"
   ]
  },
  {
   "cell_type": "markdown",
   "id": "8b33610c-d784-412c-ac20-b470ff512342",
   "metadata": {},
   "source": [
    "# Pipeline Creation"
   ]
  },
  {
   "cell_type": "code",
   "execution_count": 184,
   "id": "82eb30d4-fb6b-482b-a40a-0ea18282050b",
   "metadata": {},
   "outputs": [],
   "source": [
    "# spliting data into X and y\n",
    "X = df1.drop(['insuranceYear'], axis=1)\n",
    "y = df1['insuranceYear']"
   ]
  },
  {
   "cell_type": "code",
   "execution_count": 186,
   "id": "b51d1861-9e69-4d8a-9c4e-dcceb2568a2d",
   "metadata": {},
   "outputs": [],
   "source": [
    "# Split the data into training and testing sets\n",
    "X_train, X_test, y_train, y_test = train_test_split(X, y, test_size=0.2, random_state=42)"
   ]
  },
  {
   "cell_type": "code",
   "execution_count": 188,
   "id": "91c33c3d-9e4b-4412-aea7-910c85862cb0",
   "metadata": {},
   "outputs": [
    {
     "data": {
      "text/html": [
       "<style>#sk-container-id-1 {\n",
       "  /* Definition of color scheme common for light and dark mode */\n",
       "  --sklearn-color-text: black;\n",
       "  --sklearn-color-line: gray;\n",
       "  /* Definition of color scheme for unfitted estimators */\n",
       "  --sklearn-color-unfitted-level-0: #fff5e6;\n",
       "  --sklearn-color-unfitted-level-1: #f6e4d2;\n",
       "  --sklearn-color-unfitted-level-2: #ffe0b3;\n",
       "  --sklearn-color-unfitted-level-3: chocolate;\n",
       "  /* Definition of color scheme for fitted estimators */\n",
       "  --sklearn-color-fitted-level-0: #f0f8ff;\n",
       "  --sklearn-color-fitted-level-1: #d4ebff;\n",
       "  --sklearn-color-fitted-level-2: #b3dbfd;\n",
       "  --sklearn-color-fitted-level-3: cornflowerblue;\n",
       "\n",
       "  /* Specific color for light theme */\n",
       "  --sklearn-color-text-on-default-background: var(--sg-text-color, var(--theme-code-foreground, var(--jp-content-font-color1, black)));\n",
       "  --sklearn-color-background: var(--sg-background-color, var(--theme-background, var(--jp-layout-color0, white)));\n",
       "  --sklearn-color-border-box: var(--sg-text-color, var(--theme-code-foreground, var(--jp-content-font-color1, black)));\n",
       "  --sklearn-color-icon: #696969;\n",
       "\n",
       "  @media (prefers-color-scheme: dark) {\n",
       "    /* Redefinition of color scheme for dark theme */\n",
       "    --sklearn-color-text-on-default-background: var(--sg-text-color, var(--theme-code-foreground, var(--jp-content-font-color1, white)));\n",
       "    --sklearn-color-background: var(--sg-background-color, var(--theme-background, var(--jp-layout-color0, #111)));\n",
       "    --sklearn-color-border-box: var(--sg-text-color, var(--theme-code-foreground, var(--jp-content-font-color1, white)));\n",
       "    --sklearn-color-icon: #878787;\n",
       "  }\n",
       "}\n",
       "\n",
       "#sk-container-id-1 {\n",
       "  color: var(--sklearn-color-text);\n",
       "}\n",
       "\n",
       "#sk-container-id-1 pre {\n",
       "  padding: 0;\n",
       "}\n",
       "\n",
       "#sk-container-id-1 input.sk-hidden--visually {\n",
       "  border: 0;\n",
       "  clip: rect(1px 1px 1px 1px);\n",
       "  clip: rect(1px, 1px, 1px, 1px);\n",
       "  height: 1px;\n",
       "  margin: -1px;\n",
       "  overflow: hidden;\n",
       "  padding: 0;\n",
       "  position: absolute;\n",
       "  width: 1px;\n",
       "}\n",
       "\n",
       "#sk-container-id-1 div.sk-dashed-wrapped {\n",
       "  border: 1px dashed var(--sklearn-color-line);\n",
       "  margin: 0 0.4em 0.5em 0.4em;\n",
       "  box-sizing: border-box;\n",
       "  padding-bottom: 0.4em;\n",
       "  background-color: var(--sklearn-color-background);\n",
       "}\n",
       "\n",
       "#sk-container-id-1 div.sk-container {\n",
       "  /* jupyter's `normalize.less` sets `[hidden] { display: none; }`\n",
       "     but bootstrap.min.css set `[hidden] { display: none !important; }`\n",
       "     so we also need the `!important` here to be able to override the\n",
       "     default hidden behavior on the sphinx rendered scikit-learn.org.\n",
       "     See: https://github.com/scikit-learn/scikit-learn/issues/21755 */\n",
       "  display: inline-block !important;\n",
       "  position: relative;\n",
       "}\n",
       "\n",
       "#sk-container-id-1 div.sk-text-repr-fallback {\n",
       "  display: none;\n",
       "}\n",
       "\n",
       "div.sk-parallel-item,\n",
       "div.sk-serial,\n",
       "div.sk-item {\n",
       "  /* draw centered vertical line to link estimators */\n",
       "  background-image: linear-gradient(var(--sklearn-color-text-on-default-background), var(--sklearn-color-text-on-default-background));\n",
       "  background-size: 2px 100%;\n",
       "  background-repeat: no-repeat;\n",
       "  background-position: center center;\n",
       "}\n",
       "\n",
       "/* Parallel-specific style estimator block */\n",
       "\n",
       "#sk-container-id-1 div.sk-parallel-item::after {\n",
       "  content: \"\";\n",
       "  width: 100%;\n",
       "  border-bottom: 2px solid var(--sklearn-color-text-on-default-background);\n",
       "  flex-grow: 1;\n",
       "}\n",
       "\n",
       "#sk-container-id-1 div.sk-parallel {\n",
       "  display: flex;\n",
       "  align-items: stretch;\n",
       "  justify-content: center;\n",
       "  background-color: var(--sklearn-color-background);\n",
       "  position: relative;\n",
       "}\n",
       "\n",
       "#sk-container-id-1 div.sk-parallel-item {\n",
       "  display: flex;\n",
       "  flex-direction: column;\n",
       "}\n",
       "\n",
       "#sk-container-id-1 div.sk-parallel-item:first-child::after {\n",
       "  align-self: flex-end;\n",
       "  width: 50%;\n",
       "}\n",
       "\n",
       "#sk-container-id-1 div.sk-parallel-item:last-child::after {\n",
       "  align-self: flex-start;\n",
       "  width: 50%;\n",
       "}\n",
       "\n",
       "#sk-container-id-1 div.sk-parallel-item:only-child::after {\n",
       "  width: 0;\n",
       "}\n",
       "\n",
       "/* Serial-specific style estimator block */\n",
       "\n",
       "#sk-container-id-1 div.sk-serial {\n",
       "  display: flex;\n",
       "  flex-direction: column;\n",
       "  align-items: center;\n",
       "  background-color: var(--sklearn-color-background);\n",
       "  padding-right: 1em;\n",
       "  padding-left: 1em;\n",
       "}\n",
       "\n",
       "\n",
       "/* Toggleable style: style used for estimator/Pipeline/ColumnTransformer box that is\n",
       "clickable and can be expanded/collapsed.\n",
       "- Pipeline and ColumnTransformer use this feature and define the default style\n",
       "- Estimators will overwrite some part of the style using the `sk-estimator` class\n",
       "*/\n",
       "\n",
       "/* Pipeline and ColumnTransformer style (default) */\n",
       "\n",
       "#sk-container-id-1 div.sk-toggleable {\n",
       "  /* Default theme specific background. It is overwritten whether we have a\n",
       "  specific estimator or a Pipeline/ColumnTransformer */\n",
       "  background-color: var(--sklearn-color-background);\n",
       "}\n",
       "\n",
       "/* Toggleable label */\n",
       "#sk-container-id-1 label.sk-toggleable__label {\n",
       "  cursor: pointer;\n",
       "  display: block;\n",
       "  width: 100%;\n",
       "  margin-bottom: 0;\n",
       "  padding: 0.5em;\n",
       "  box-sizing: border-box;\n",
       "  text-align: center;\n",
       "}\n",
       "\n",
       "#sk-container-id-1 label.sk-toggleable__label-arrow:before {\n",
       "  /* Arrow on the left of the label */\n",
       "  content: \"▸\";\n",
       "  float: left;\n",
       "  margin-right: 0.25em;\n",
       "  color: var(--sklearn-color-icon);\n",
       "}\n",
       "\n",
       "#sk-container-id-1 label.sk-toggleable__label-arrow:hover:before {\n",
       "  color: var(--sklearn-color-text);\n",
       "}\n",
       "\n",
       "/* Toggleable content - dropdown */\n",
       "\n",
       "#sk-container-id-1 div.sk-toggleable__content {\n",
       "  max-height: 0;\n",
       "  max-width: 0;\n",
       "  overflow: hidden;\n",
       "  text-align: left;\n",
       "  /* unfitted */\n",
       "  background-color: var(--sklearn-color-unfitted-level-0);\n",
       "}\n",
       "\n",
       "#sk-container-id-1 div.sk-toggleable__content.fitted {\n",
       "  /* fitted */\n",
       "  background-color: var(--sklearn-color-fitted-level-0);\n",
       "}\n",
       "\n",
       "#sk-container-id-1 div.sk-toggleable__content pre {\n",
       "  margin: 0.2em;\n",
       "  border-radius: 0.25em;\n",
       "  color: var(--sklearn-color-text);\n",
       "  /* unfitted */\n",
       "  background-color: var(--sklearn-color-unfitted-level-0);\n",
       "}\n",
       "\n",
       "#sk-container-id-1 div.sk-toggleable__content.fitted pre {\n",
       "  /* unfitted */\n",
       "  background-color: var(--sklearn-color-fitted-level-0);\n",
       "}\n",
       "\n",
       "#sk-container-id-1 input.sk-toggleable__control:checked~div.sk-toggleable__content {\n",
       "  /* Expand drop-down */\n",
       "  max-height: 200px;\n",
       "  max-width: 100%;\n",
       "  overflow: auto;\n",
       "}\n",
       "\n",
       "#sk-container-id-1 input.sk-toggleable__control:checked~label.sk-toggleable__label-arrow:before {\n",
       "  content: \"▾\";\n",
       "}\n",
       "\n",
       "/* Pipeline/ColumnTransformer-specific style */\n",
       "\n",
       "#sk-container-id-1 div.sk-label input.sk-toggleable__control:checked~label.sk-toggleable__label {\n",
       "  color: var(--sklearn-color-text);\n",
       "  background-color: var(--sklearn-color-unfitted-level-2);\n",
       "}\n",
       "\n",
       "#sk-container-id-1 div.sk-label.fitted input.sk-toggleable__control:checked~label.sk-toggleable__label {\n",
       "  background-color: var(--sklearn-color-fitted-level-2);\n",
       "}\n",
       "\n",
       "/* Estimator-specific style */\n",
       "\n",
       "/* Colorize estimator box */\n",
       "#sk-container-id-1 div.sk-estimator input.sk-toggleable__control:checked~label.sk-toggleable__label {\n",
       "  /* unfitted */\n",
       "  background-color: var(--sklearn-color-unfitted-level-2);\n",
       "}\n",
       "\n",
       "#sk-container-id-1 div.sk-estimator.fitted input.sk-toggleable__control:checked~label.sk-toggleable__label {\n",
       "  /* fitted */\n",
       "  background-color: var(--sklearn-color-fitted-level-2);\n",
       "}\n",
       "\n",
       "#sk-container-id-1 div.sk-label label.sk-toggleable__label,\n",
       "#sk-container-id-1 div.sk-label label {\n",
       "  /* The background is the default theme color */\n",
       "  color: var(--sklearn-color-text-on-default-background);\n",
       "}\n",
       "\n",
       "/* On hover, darken the color of the background */\n",
       "#sk-container-id-1 div.sk-label:hover label.sk-toggleable__label {\n",
       "  color: var(--sklearn-color-text);\n",
       "  background-color: var(--sklearn-color-unfitted-level-2);\n",
       "}\n",
       "\n",
       "/* Label box, darken color on hover, fitted */\n",
       "#sk-container-id-1 div.sk-label.fitted:hover label.sk-toggleable__label.fitted {\n",
       "  color: var(--sklearn-color-text);\n",
       "  background-color: var(--sklearn-color-fitted-level-2);\n",
       "}\n",
       "\n",
       "/* Estimator label */\n",
       "\n",
       "#sk-container-id-1 div.sk-label label {\n",
       "  font-family: monospace;\n",
       "  font-weight: bold;\n",
       "  display: inline-block;\n",
       "  line-height: 1.2em;\n",
       "}\n",
       "\n",
       "#sk-container-id-1 div.sk-label-container {\n",
       "  text-align: center;\n",
       "}\n",
       "\n",
       "/* Estimator-specific */\n",
       "#sk-container-id-1 div.sk-estimator {\n",
       "  font-family: monospace;\n",
       "  border: 1px dotted var(--sklearn-color-border-box);\n",
       "  border-radius: 0.25em;\n",
       "  box-sizing: border-box;\n",
       "  margin-bottom: 0.5em;\n",
       "  /* unfitted */\n",
       "  background-color: var(--sklearn-color-unfitted-level-0);\n",
       "}\n",
       "\n",
       "#sk-container-id-1 div.sk-estimator.fitted {\n",
       "  /* fitted */\n",
       "  background-color: var(--sklearn-color-fitted-level-0);\n",
       "}\n",
       "\n",
       "/* on hover */\n",
       "#sk-container-id-1 div.sk-estimator:hover {\n",
       "  /* unfitted */\n",
       "  background-color: var(--sklearn-color-unfitted-level-2);\n",
       "}\n",
       "\n",
       "#sk-container-id-1 div.sk-estimator.fitted:hover {\n",
       "  /* fitted */\n",
       "  background-color: var(--sklearn-color-fitted-level-2);\n",
       "}\n",
       "\n",
       "/* Specification for estimator info (e.g. \"i\" and \"?\") */\n",
       "\n",
       "/* Common style for \"i\" and \"?\" */\n",
       "\n",
       ".sk-estimator-doc-link,\n",
       "a:link.sk-estimator-doc-link,\n",
       "a:visited.sk-estimator-doc-link {\n",
       "  float: right;\n",
       "  font-size: smaller;\n",
       "  line-height: 1em;\n",
       "  font-family: monospace;\n",
       "  background-color: var(--sklearn-color-background);\n",
       "  border-radius: 1em;\n",
       "  height: 1em;\n",
       "  width: 1em;\n",
       "  text-decoration: none !important;\n",
       "  margin-left: 1ex;\n",
       "  /* unfitted */\n",
       "  border: var(--sklearn-color-unfitted-level-1) 1pt solid;\n",
       "  color: var(--sklearn-color-unfitted-level-1);\n",
       "}\n",
       "\n",
       ".sk-estimator-doc-link.fitted,\n",
       "a:link.sk-estimator-doc-link.fitted,\n",
       "a:visited.sk-estimator-doc-link.fitted {\n",
       "  /* fitted */\n",
       "  border: var(--sklearn-color-fitted-level-1) 1pt solid;\n",
       "  color: var(--sklearn-color-fitted-level-1);\n",
       "}\n",
       "\n",
       "/* On hover */\n",
       "div.sk-estimator:hover .sk-estimator-doc-link:hover,\n",
       ".sk-estimator-doc-link:hover,\n",
       "div.sk-label-container:hover .sk-estimator-doc-link:hover,\n",
       ".sk-estimator-doc-link:hover {\n",
       "  /* unfitted */\n",
       "  background-color: var(--sklearn-color-unfitted-level-3);\n",
       "  color: var(--sklearn-color-background);\n",
       "  text-decoration: none;\n",
       "}\n",
       "\n",
       "div.sk-estimator.fitted:hover .sk-estimator-doc-link.fitted:hover,\n",
       ".sk-estimator-doc-link.fitted:hover,\n",
       "div.sk-label-container:hover .sk-estimator-doc-link.fitted:hover,\n",
       ".sk-estimator-doc-link.fitted:hover {\n",
       "  /* fitted */\n",
       "  background-color: var(--sklearn-color-fitted-level-3);\n",
       "  color: var(--sklearn-color-background);\n",
       "  text-decoration: none;\n",
       "}\n",
       "\n",
       "/* Span, style for the box shown on hovering the info icon */\n",
       ".sk-estimator-doc-link span {\n",
       "  display: none;\n",
       "  z-index: 9999;\n",
       "  position: relative;\n",
       "  font-weight: normal;\n",
       "  right: .2ex;\n",
       "  padding: .5ex;\n",
       "  margin: .5ex;\n",
       "  width: min-content;\n",
       "  min-width: 20ex;\n",
       "  max-width: 50ex;\n",
       "  color: var(--sklearn-color-text);\n",
       "  box-shadow: 2pt 2pt 4pt #999;\n",
       "  /* unfitted */\n",
       "  background: var(--sklearn-color-unfitted-level-0);\n",
       "  border: .5pt solid var(--sklearn-color-unfitted-level-3);\n",
       "}\n",
       "\n",
       ".sk-estimator-doc-link.fitted span {\n",
       "  /* fitted */\n",
       "  background: var(--sklearn-color-fitted-level-0);\n",
       "  border: var(--sklearn-color-fitted-level-3);\n",
       "}\n",
       "\n",
       ".sk-estimator-doc-link:hover span {\n",
       "  display: block;\n",
       "}\n",
       "\n",
       "/* \"?\"-specific style due to the `<a>` HTML tag */\n",
       "\n",
       "#sk-container-id-1 a.estimator_doc_link {\n",
       "  float: right;\n",
       "  font-size: 1rem;\n",
       "  line-height: 1em;\n",
       "  font-family: monospace;\n",
       "  background-color: var(--sklearn-color-background);\n",
       "  border-radius: 1rem;\n",
       "  height: 1rem;\n",
       "  width: 1rem;\n",
       "  text-decoration: none;\n",
       "  /* unfitted */\n",
       "  color: var(--sklearn-color-unfitted-level-1);\n",
       "  border: var(--sklearn-color-unfitted-level-1) 1pt solid;\n",
       "}\n",
       "\n",
       "#sk-container-id-1 a.estimator_doc_link.fitted {\n",
       "  /* fitted */\n",
       "  border: var(--sklearn-color-fitted-level-1) 1pt solid;\n",
       "  color: var(--sklearn-color-fitted-level-1);\n",
       "}\n",
       "\n",
       "/* On hover */\n",
       "#sk-container-id-1 a.estimator_doc_link:hover {\n",
       "  /* unfitted */\n",
       "  background-color: var(--sklearn-color-unfitted-level-3);\n",
       "  color: var(--sklearn-color-background);\n",
       "  text-decoration: none;\n",
       "}\n",
       "\n",
       "#sk-container-id-1 a.estimator_doc_link.fitted:hover {\n",
       "  /* fitted */\n",
       "  background-color: var(--sklearn-color-fitted-level-3);\n",
       "}\n",
       "</style><div id=\"sk-container-id-1\" class=\"sk-top-container\"><div class=\"sk-text-repr-fallback\"><pre>Pipeline(steps=[(&#x27;preprocessor&#x27;,\n",
       "                 ColumnTransformer(transformers=[(&#x27;num&#x27;,\n",
       "                                                  Pipeline(steps=[(&#x27;imputer&#x27;,\n",
       "                                                                   SimpleImputer()),\n",
       "                                                                  (&#x27;scaler&#x27;,\n",
       "                                                                   StandardScaler())]),\n",
       "                                                  Index([&#x27;slno&#x27;], dtype=&#x27;object&#x27;)),\n",
       "                                                 (&#x27;cat&#x27;,\n",
       "                                                  Pipeline(steps=[(&#x27;imputer&#x27;,\n",
       "                                                                   SimpleImputer(strategy=&#x27;most_frequent&#x27;)),\n",
       "                                                                  (&#x27;onehot&#x27;,\n",
       "                                                                   OneHotEncoder(handle_unknown=&#x27;ignore&#x27;))]),\n",
       "                                                  Index([&#x27;modelDesc&#x27;, &#x27;vehicleClass&#x27;, &#x27;makeYear&#x27;, &#x27;secondVehicle&#x27;,\n",
       "       &#x27;tempRegistrationNumber&#x27;, &#x27;category&#x27;, &#x27;makerName&#x27;, &#x27;OfficeCd&#x27;,\n",
       "       &#x27;fromdate&#x27;, &#x27;todate&#x27;],\n",
       "      dtype=&#x27;object&#x27;))])),\n",
       "                (&#x27;regressor&#x27;,\n",
       "                 RandomForestRegressor(max_depth=10, min_samples_leaf=2,\n",
       "                                       min_samples_split=5, n_estimators=50,\n",
       "                                       random_state=42))])</pre><b>In a Jupyter environment, please rerun this cell to show the HTML representation or trust the notebook. <br />On GitHub, the HTML representation is unable to render, please try loading this page with nbviewer.org.</b></div><div class=\"sk-container\" hidden><div class=\"sk-item sk-dashed-wrapped\"><div class=\"sk-label-container\"><div class=\"sk-label fitted sk-toggleable\"><input class=\"sk-toggleable__control sk-hidden--visually\" id=\"sk-estimator-id-1\" type=\"checkbox\" ><label for=\"sk-estimator-id-1\" class=\"sk-toggleable__label fitted sk-toggleable__label-arrow fitted\">&nbsp;&nbsp;Pipeline<a class=\"sk-estimator-doc-link fitted\" rel=\"noreferrer\" target=\"_blank\" href=\"https://scikit-learn.org/1.4/modules/generated/sklearn.pipeline.Pipeline.html\">?<span>Documentation for Pipeline</span></a><span class=\"sk-estimator-doc-link fitted\">i<span>Fitted</span></span></label><div class=\"sk-toggleable__content fitted\"><pre>Pipeline(steps=[(&#x27;preprocessor&#x27;,\n",
       "                 ColumnTransformer(transformers=[(&#x27;num&#x27;,\n",
       "                                                  Pipeline(steps=[(&#x27;imputer&#x27;,\n",
       "                                                                   SimpleImputer()),\n",
       "                                                                  (&#x27;scaler&#x27;,\n",
       "                                                                   StandardScaler())]),\n",
       "                                                  Index([&#x27;slno&#x27;], dtype=&#x27;object&#x27;)),\n",
       "                                                 (&#x27;cat&#x27;,\n",
       "                                                  Pipeline(steps=[(&#x27;imputer&#x27;,\n",
       "                                                                   SimpleImputer(strategy=&#x27;most_frequent&#x27;)),\n",
       "                                                                  (&#x27;onehot&#x27;,\n",
       "                                                                   OneHotEncoder(handle_unknown=&#x27;ignore&#x27;))]),\n",
       "                                                  Index([&#x27;modelDesc&#x27;, &#x27;vehicleClass&#x27;, &#x27;makeYear&#x27;, &#x27;secondVehicle&#x27;,\n",
       "       &#x27;tempRegistrationNumber&#x27;, &#x27;category&#x27;, &#x27;makerName&#x27;, &#x27;OfficeCd&#x27;,\n",
       "       &#x27;fromdate&#x27;, &#x27;todate&#x27;],\n",
       "      dtype=&#x27;object&#x27;))])),\n",
       "                (&#x27;regressor&#x27;,\n",
       "                 RandomForestRegressor(max_depth=10, min_samples_leaf=2,\n",
       "                                       min_samples_split=5, n_estimators=50,\n",
       "                                       random_state=42))])</pre></div> </div></div><div class=\"sk-serial\"><div class=\"sk-item sk-dashed-wrapped\"><div class=\"sk-label-container\"><div class=\"sk-label fitted sk-toggleable\"><input class=\"sk-toggleable__control sk-hidden--visually\" id=\"sk-estimator-id-2\" type=\"checkbox\" ><label for=\"sk-estimator-id-2\" class=\"sk-toggleable__label fitted sk-toggleable__label-arrow fitted\">&nbsp;preprocessor: ColumnTransformer<a class=\"sk-estimator-doc-link fitted\" rel=\"noreferrer\" target=\"_blank\" href=\"https://scikit-learn.org/1.4/modules/generated/sklearn.compose.ColumnTransformer.html\">?<span>Documentation for preprocessor: ColumnTransformer</span></a></label><div class=\"sk-toggleable__content fitted\"><pre>ColumnTransformer(transformers=[(&#x27;num&#x27;,\n",
       "                                 Pipeline(steps=[(&#x27;imputer&#x27;, SimpleImputer()),\n",
       "                                                 (&#x27;scaler&#x27;, StandardScaler())]),\n",
       "                                 Index([&#x27;slno&#x27;], dtype=&#x27;object&#x27;)),\n",
       "                                (&#x27;cat&#x27;,\n",
       "                                 Pipeline(steps=[(&#x27;imputer&#x27;,\n",
       "                                                  SimpleImputer(strategy=&#x27;most_frequent&#x27;)),\n",
       "                                                 (&#x27;onehot&#x27;,\n",
       "                                                  OneHotEncoder(handle_unknown=&#x27;ignore&#x27;))]),\n",
       "                                 Index([&#x27;modelDesc&#x27;, &#x27;vehicleClass&#x27;, &#x27;makeYear&#x27;, &#x27;secondVehicle&#x27;,\n",
       "       &#x27;tempRegistrationNumber&#x27;, &#x27;category&#x27;, &#x27;makerName&#x27;, &#x27;OfficeCd&#x27;,\n",
       "       &#x27;fromdate&#x27;, &#x27;todate&#x27;],\n",
       "      dtype=&#x27;object&#x27;))])</pre></div> </div></div><div class=\"sk-parallel\"><div class=\"sk-parallel-item\"><div class=\"sk-item\"><div class=\"sk-label-container\"><div class=\"sk-label fitted sk-toggleable\"><input class=\"sk-toggleable__control sk-hidden--visually\" id=\"sk-estimator-id-3\" type=\"checkbox\" ><label for=\"sk-estimator-id-3\" class=\"sk-toggleable__label fitted sk-toggleable__label-arrow fitted\">num</label><div class=\"sk-toggleable__content fitted\"><pre>Index([&#x27;slno&#x27;], dtype=&#x27;object&#x27;)</pre></div> </div></div><div class=\"sk-serial\"><div class=\"sk-item\"><div class=\"sk-serial\"><div class=\"sk-item\"><div class=\"sk-estimator fitted sk-toggleable\"><input class=\"sk-toggleable__control sk-hidden--visually\" id=\"sk-estimator-id-4\" type=\"checkbox\" ><label for=\"sk-estimator-id-4\" class=\"sk-toggleable__label fitted sk-toggleable__label-arrow fitted\">&nbsp;SimpleImputer<a class=\"sk-estimator-doc-link fitted\" rel=\"noreferrer\" target=\"_blank\" href=\"https://scikit-learn.org/1.4/modules/generated/sklearn.impute.SimpleImputer.html\">?<span>Documentation for SimpleImputer</span></a></label><div class=\"sk-toggleable__content fitted\"><pre>SimpleImputer()</pre></div> </div></div><div class=\"sk-item\"><div class=\"sk-estimator fitted sk-toggleable\"><input class=\"sk-toggleable__control sk-hidden--visually\" id=\"sk-estimator-id-5\" type=\"checkbox\" ><label for=\"sk-estimator-id-5\" class=\"sk-toggleable__label fitted sk-toggleable__label-arrow fitted\">&nbsp;StandardScaler<a class=\"sk-estimator-doc-link fitted\" rel=\"noreferrer\" target=\"_blank\" href=\"https://scikit-learn.org/1.4/modules/generated/sklearn.preprocessing.StandardScaler.html\">?<span>Documentation for StandardScaler</span></a></label><div class=\"sk-toggleable__content fitted\"><pre>StandardScaler()</pre></div> </div></div></div></div></div></div></div><div class=\"sk-parallel-item\"><div class=\"sk-item\"><div class=\"sk-label-container\"><div class=\"sk-label fitted sk-toggleable\"><input class=\"sk-toggleable__control sk-hidden--visually\" id=\"sk-estimator-id-6\" type=\"checkbox\" ><label for=\"sk-estimator-id-6\" class=\"sk-toggleable__label fitted sk-toggleable__label-arrow fitted\">cat</label><div class=\"sk-toggleable__content fitted\"><pre>Index([&#x27;modelDesc&#x27;, &#x27;vehicleClass&#x27;, &#x27;makeYear&#x27;, &#x27;secondVehicle&#x27;,\n",
       "       &#x27;tempRegistrationNumber&#x27;, &#x27;category&#x27;, &#x27;makerName&#x27;, &#x27;OfficeCd&#x27;,\n",
       "       &#x27;fromdate&#x27;, &#x27;todate&#x27;],\n",
       "      dtype=&#x27;object&#x27;)</pre></div> </div></div><div class=\"sk-serial\"><div class=\"sk-item\"><div class=\"sk-serial\"><div class=\"sk-item\"><div class=\"sk-estimator fitted sk-toggleable\"><input class=\"sk-toggleable__control sk-hidden--visually\" id=\"sk-estimator-id-7\" type=\"checkbox\" ><label for=\"sk-estimator-id-7\" class=\"sk-toggleable__label fitted sk-toggleable__label-arrow fitted\">&nbsp;SimpleImputer<a class=\"sk-estimator-doc-link fitted\" rel=\"noreferrer\" target=\"_blank\" href=\"https://scikit-learn.org/1.4/modules/generated/sklearn.impute.SimpleImputer.html\">?<span>Documentation for SimpleImputer</span></a></label><div class=\"sk-toggleable__content fitted\"><pre>SimpleImputer(strategy=&#x27;most_frequent&#x27;)</pre></div> </div></div><div class=\"sk-item\"><div class=\"sk-estimator fitted sk-toggleable\"><input class=\"sk-toggleable__control sk-hidden--visually\" id=\"sk-estimator-id-8\" type=\"checkbox\" ><label for=\"sk-estimator-id-8\" class=\"sk-toggleable__label fitted sk-toggleable__label-arrow fitted\">&nbsp;OneHotEncoder<a class=\"sk-estimator-doc-link fitted\" rel=\"noreferrer\" target=\"_blank\" href=\"https://scikit-learn.org/1.4/modules/generated/sklearn.preprocessing.OneHotEncoder.html\">?<span>Documentation for OneHotEncoder</span></a></label><div class=\"sk-toggleable__content fitted\"><pre>OneHotEncoder(handle_unknown=&#x27;ignore&#x27;)</pre></div> </div></div></div></div></div></div></div></div></div><div class=\"sk-item\"><div class=\"sk-estimator fitted sk-toggleable\"><input class=\"sk-toggleable__control sk-hidden--visually\" id=\"sk-estimator-id-9\" type=\"checkbox\" ><label for=\"sk-estimator-id-9\" class=\"sk-toggleable__label fitted sk-toggleable__label-arrow fitted\">&nbsp;RandomForestRegressor<a class=\"sk-estimator-doc-link fitted\" rel=\"noreferrer\" target=\"_blank\" href=\"https://scikit-learn.org/1.4/modules/generated/sklearn.ensemble.RandomForestRegressor.html\">?<span>Documentation for RandomForestRegressor</span></a></label><div class=\"sk-toggleable__content fitted\"><pre>RandomForestRegressor(max_depth=10, min_samples_leaf=2, min_samples_split=5,\n",
       "                      n_estimators=50, random_state=42)</pre></div> </div></div></div></div></div></div>"
      ],
      "text/plain": [
       "Pipeline(steps=[('preprocessor',\n",
       "                 ColumnTransformer(transformers=[('num',\n",
       "                                                  Pipeline(steps=[('imputer',\n",
       "                                                                   SimpleImputer()),\n",
       "                                                                  ('scaler',\n",
       "                                                                   StandardScaler())]),\n",
       "                                                  Index(['slno'], dtype='object')),\n",
       "                                                 ('cat',\n",
       "                                                  Pipeline(steps=[('imputer',\n",
       "                                                                   SimpleImputer(strategy='most_frequent')),\n",
       "                                                                  ('onehot',\n",
       "                                                                   OneHotEncoder(handle_unknown='ignore'))]),\n",
       "                                                  Index(['modelDesc', 'vehicleClass', 'makeYear', 'secondVehicle',\n",
       "       'tempRegistrationNumber', 'category', 'makerName', 'OfficeCd',\n",
       "       'fromdate', 'todate'],\n",
       "      dtype='object'))])),\n",
       "                ('regressor',\n",
       "                 RandomForestRegressor(max_depth=10, min_samples_leaf=2,\n",
       "                                       min_samples_split=5, n_estimators=50,\n",
       "                                       random_state=42))])"
      ]
     },
     "execution_count": 188,
     "metadata": {},
     "output_type": "execute_result"
    }
   ],
   "source": [
    "from sklearn.compose import ColumnTransformer\n",
    "\n",
    "# Separate numeric and non-numeric columns\n",
    "numeric_features = X_train.select_dtypes(include=['int64', 'float64']).columns\n",
    "categorical_features = X_train.select_dtypes(include=['object']).columns\n",
    "\n",
    "# Preprocessing for numeric data\n",
    "numeric_transformer = Pipeline(steps=[\n",
    "    ('imputer', SimpleImputer(strategy='mean')),\n",
    "    ('scaler', StandardScaler())])\n",
    "\n",
    "# Preprocessing for categorical data\n",
    "categorical_transformer = Pipeline(steps=[\n",
    "    ('imputer', SimpleImputer(strategy='most_frequent')),\n",
    "    ('onehot', OneHotEncoder(handle_unknown='ignore'))])\n",
    "\n",
    "# Combine preprocessing steps\n",
    "preprocessor = ColumnTransformer(\n",
    "    transformers=[\n",
    "        ('num', numeric_transformer, numeric_features),\n",
    "        ('cat', categorical_transformer, categorical_features)])\n",
    "\n",
    "# Final pipeline with the regressor\n",
    "pipeline = Pipeline(steps=[\n",
    "    ('preprocessor', preprocessor),\n",
    "    ('regressor', RandomForestRegressor(\n",
    "        n_estimators=50,              # Best number of estimators from GridSearchCV\n",
    "        min_samples_split=5,          # Best min_samples_split from GridSearchCV\n",
    "        min_samples_leaf=2,           # Best min_samples_leaf from GridSearchCV\n",
    "        max_depth=10,                 # Best max_depth from GridSearchCV\n",
    "        random_state=42))])           # Ensure reproducibility\n",
    "\n",
    "# Fit the pipeline\n",
    "pipeline.fit(X_train, y_train)"
   ]
  },
  {
   "cell_type": "markdown",
   "id": "8ec67f59-10a1-461b-94f5-1c567c15bd9d",
   "metadata": {},
   "source": [
    "# Saving the Model"
   ]
  },
  {
   "cell_type": "code",
   "execution_count": 191,
   "id": "37ab2ffc-8328-489b-ab49-1ab60b7804e6",
   "metadata": {},
   "outputs": [
    {
     "data": {
      "text/plain": [
       "['random_forest_pipeline.joblib']"
      ]
     },
     "execution_count": 191,
     "metadata": {},
     "output_type": "execute_result"
    }
   ],
   "source": [
    "# Save the entire pipeline\n",
    "joblib.dump(pipeline,'random_forest_pipeline.joblib')"
   ]
  },
  {
   "cell_type": "code",
   "execution_count": 193,
   "id": "50c0220d-f67c-461d-aeab-1e0761ba9ae0",
   "metadata": {},
   "outputs": [],
   "source": [
    "loaded_pipeline = joblib.load('random_forest_pipeline.joblib')"
   ]
  },
  {
   "cell_type": "code",
   "execution_count": null,
   "id": "7f132b45-a89b-4087-8ce6-95e82eb218f8",
   "metadata": {},
   "outputs": [],
   "source": []
  }
 ],
 "metadata": {
  "kernelspec": {
   "display_name": "Python 3 (ipykernel)",
   "language": "python",
   "name": "python3"
  },
  "language_info": {
   "codemirror_mode": {
    "name": "ipython",
    "version": 3
   },
   "file_extension": ".py",
   "mimetype": "text/x-python",
   "name": "python",
   "nbconvert_exporter": "python",
   "pygments_lexer": "ipython3",
   "version": "3.12.4"
  }
 },
 "nbformat": 4,
 "nbformat_minor": 5
}
